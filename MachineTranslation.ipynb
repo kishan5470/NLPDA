{
 "cells": [
  {
   "cell_type": "code",
   "execution_count": 7,
   "id": "08904dbc",
   "metadata": {},
   "outputs": [],
   "source": [
    "import torch\n",
    "from transformers import MarianMTModel, MarianTokenizer\n",
    "from nltk.translate.bleu_score import sentence_bleu"
   ]
  },
  {
   "cell_type": "code",
   "execution_count": 8,
   "id": "7edf8496",
   "metadata": {},
   "outputs": [],
   "source": [
    "src_lang_code = 'en'\n",
    "tgt_lang_code = 'hi'"
   ]
  },
  {
   "cell_type": "code",
   "execution_count": 9,
   "id": "82bf7eb5",
   "metadata": {},
   "outputs": [
    {
     "name": "stderr",
     "output_type": "stream",
     "text": [
      "C:\\Users\\Kisha\\anaconda3\\lib\\site-packages\\transformers\\models\\marian\\tokenization_marian.py:194: UserWarning: Recommended: pip install sacremoses.\n",
      "  warnings.warn(\"Recommended: pip install sacremoses.\")\n"
     ]
    }
   ],
   "source": [
    "model_name = f'Helsinki-NLP/opus-mt-{src_lang_code}-{tgt_lang_code}'\n",
    "tokenizer = MarianTokenizer.from_pretrained(model_name)\n",
    "model = MarianMTModel.from_pretrained(model_name)"
   ]
  },
  {
   "cell_type": "code",
   "execution_count": 10,
   "id": "ce42e61f",
   "metadata": {},
   "outputs": [],
   "source": [
    "input_text = \"Hello, my name is kishan , i am doing my 4th year at my college\""
   ]
  },
  {
   "cell_type": "code",
   "execution_count": 11,
   "id": "a65c7439",
   "metadata": {},
   "outputs": [],
   "source": [
    "def calculate_bleu_score(reference, translated):\n",
    "    reference_tokens = [reference.split()]\n",
    "    translated_tokens = translated.split()\n",
    "    return sentence_bleu(reference_tokens, translated_tokens)"
   ]
  },
  {
   "cell_type": "code",
   "execution_count": 12,
   "id": "9217aca5",
   "metadata": {},
   "outputs": [],
   "source": [
    "input_ids = tokenizer.encode(input_text, return_tensors=\"pt\")"
   ]
  },
  {
   "cell_type": "code",
   "execution_count": 13,
   "id": "8ab6a480",
   "metadata": {},
   "outputs": [],
   "source": [
    "with torch.no_grad():\n",
    "    output_ids = model.generate(input_ids)"
   ]
  },
  {
   "cell_type": "code",
   "execution_count": 18,
   "id": "f367a82d",
   "metadata": {},
   "outputs": [],
   "source": [
    "reference_translation = \"हैलो, मेरा नाम किशन है, मैं अपने कॉलेज में अपना चौथा वर्ष कर रहा हूँ\""
   ]
  },
  {
   "cell_type": "code",
   "execution_count": 19,
   "id": "b54fc78d",
   "metadata": {},
   "outputs": [
    {
     "name": "stdout",
     "output_type": "stream",
     "text": [
      "Translated Text: हैलो, मेरा नाम कुंग है, मैं अपने कॉलेज में 4 वीं साल कर रहा हूँ\n"
     ]
    }
   ],
   "source": [
    "translated_text = tokenizer.decode(output_ids[0], skip_special_tokens=True)\n",
    "print(\"Translated Text:\", translated_text)"
   ]
  },
  {
   "cell_type": "code",
   "execution_count": 20,
   "id": "f2ff0358",
   "metadata": {},
   "outputs": [],
   "source": [
    "bleu_score = calculate_bleu_score(reference_translation, translated_text)"
   ]
  },
  {
   "cell_type": "code",
   "execution_count": 21,
   "id": "c4a33fed",
   "metadata": {},
   "outputs": [
    {
     "name": "stdout",
     "output_type": "stream",
     "text": [
      "BLEU Score: 0.40484119186599643\n"
     ]
    }
   ],
   "source": [
    "print(\"BLEU Score:\", bleu_score)"
   ]
  },
  {
   "cell_type": "code",
   "execution_count": null,
   "id": "0cdfbc90",
   "metadata": {},
   "outputs": [],
   "source": []
  }
 ],
 "metadata": {
  "kernelspec": {
   "display_name": "Python 3 (ipykernel)",
   "language": "python",
   "name": "python3"
  },
  "language_info": {
   "codemirror_mode": {
    "name": "ipython",
    "version": 3
   },
   "file_extension": ".py",
   "mimetype": "text/x-python",
   "name": "python",
   "nbconvert_exporter": "python",
   "pygments_lexer": "ipython3",
   "version": "3.9.12"
  }
 },
 "nbformat": 4,
 "nbformat_minor": 5
}
