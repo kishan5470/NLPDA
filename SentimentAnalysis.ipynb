{
 "cells": [
  {
   "cell_type": "code",
   "execution_count": 1,
   "id": "4bf5636c",
   "metadata": {},
   "outputs": [],
   "source": [
    "import pandas as pd\n",
    "from textblob import TextBlob"
   ]
  },
  {
   "cell_type": "code",
   "execution_count": 34,
   "id": "f55367b4",
   "metadata": {},
   "outputs": [],
   "source": [
    "csv_file_path = \"C:\\\\Users\\\\Kisha\\\\Downloads\\\\sentiment.csv\"\n",
    "df = pd.read_csv(csv_file_path, encoding='latin1')"
   ]
  },
  {
   "cell_type": "code",
   "execution_count": 35,
   "id": "5b5f7795",
   "metadata": {},
   "outputs": [],
   "source": [
    "text_column_name = 'SentimentText'"
   ]
  },
  {
   "cell_type": "code",
   "execution_count": 36,
   "id": "4beb876f",
   "metadata": {},
   "outputs": [],
   "source": [
    "def analyze_sentiment(text):\n",
    "    analysis = TextBlob(str(text))\n",
    "    # Classify the sentiment as positive, negative, or neutral\n",
    "    if analysis.sentiment.polarity > 0:\n",
    "        return 'Positive'\n",
    "    elif analysis.sentiment.polarity < 0:\n",
    "        return 'Negative'\n",
    "    else:\n",
    "        return 'Neutral'"
   ]
  },
  {
   "cell_type": "code",
   "execution_count": 37,
   "id": "62bd8c07",
   "metadata": {},
   "outputs": [
    {
     "name": "stdout",
     "output_type": "stream",
     "text": [
      "                                         SentimentText sentiment\n",
      "0                     I missed the New Moon trailer...  Positive\n",
      "1                              omg its already 7:30 :O  Positive\n",
      "2              .. Omgaga. Im sooo  im gunna CRy. I'...   Neutral\n",
      "3             i think mi bf is cheating on me!!!   ...   Neutral\n",
      "4                    or i just worry too much?          Positive\n",
      "..                                                 ...       ...\n",
      "945   famliy  going bck homee and have too taKE sis...  Negative\n",
      "946   Farrah Fawcett dies of cancer at 62. http://b...   Neutral\n",
      "947                                         fcukk you!   Neutral\n",
      "948    fedex will be kicked out of the french open ...   Neutral\n",
      "949                         feelin very pessimistic ):  Positive\n",
      "\n",
      "[950 rows x 2 columns]\n"
     ]
    }
   ],
   "source": [
    "df['sentiment'] = df[text_column_name].apply(analyze_sentiment)\n",
    "\n",
    "print(df[['SentimentText', 'sentiment']])"
   ]
  },
  {
   "cell_type": "code",
   "execution_count": 38,
   "id": "d5e1c0ad",
   "metadata": {},
   "outputs": [
    {
     "name": "stdout",
     "output_type": "stream",
     "text": [
      "Neutral     413\n",
      "Positive    304\n",
      "Negative    233\n",
      "Name: sentiment, dtype: int64\n"
     ]
    }
   ],
   "source": [
    "sentiment_counts = df['sentiment'].value_counts()\n",
    "\n",
    "# Display the counts\n",
    "print(sentiment_counts)"
   ]
  },
  {
   "cell_type": "code",
   "execution_count": null,
   "id": "e0fae87e",
   "metadata": {},
   "outputs": [],
   "source": []
  }
 ],
 "metadata": {
  "kernelspec": {
   "display_name": "Python 3 (ipykernel)",
   "language": "python",
   "name": "python3"
  },
  "language_info": {
   "codemirror_mode": {
    "name": "ipython",
    "version": 3
   },
   "file_extension": ".py",
   "mimetype": "text/x-python",
   "name": "python",
   "nbconvert_exporter": "python",
   "pygments_lexer": "ipython3",
   "version": "3.9.12"
  }
 },
 "nbformat": 4,
 "nbformat_minor": 5
}
